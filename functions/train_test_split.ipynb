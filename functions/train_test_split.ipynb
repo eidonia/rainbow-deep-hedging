{
  "metadata": {
    "language_info": {
      "codemirror_mode": {
        "name": "python",
        "version": 3
      },
      "file_extension": ".py",
      "mimetype": "text/x-python",
      "name": "python",
      "nbconvert_exporter": "python",
      "pygments_lexer": "ipython3",
      "version": "3.8"
    },
    "kernelspec": {
      "name": "python",
      "display_name": "Pyolite",
      "language": "python"
    }
  },
  "nbformat_minor": 4,
  "nbformat": 4,
  "cells": [
    {
      "cell_type": "code",
      "source": "from sklearn import model_selection\n\ndef train_test_split(data = None, test_size = None):\n    \n    x_train = []\n    x_test = []\n    \n    for x in data:\n        temp_x_train, temp_x_test = model_selection.train_test_split(x, test_size = test_size, \\\n                                                                     shuffle = False)\n        x_train = x_train + [tmp_x_train]\n        x_test = x_test + [tmp_x_test]",
      "metadata": {
        "trusted": true
      },
      "execution_count": null,
      "outputs": []
    }
  ]
}
