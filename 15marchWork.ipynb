{
  "metadata": {
    "language_info": {
      "codemirror_mode": {
        "name": "python",
        "version": 3
      },
      "file_extension": ".py",
      "mimetype": "text/x-python",
      "name": "python",
      "nbconvert_exporter": "python",
      "pygments_lexer": "ipython3",
      "version": "3.8"
    },
    "kernelspec": {
      "name": "python",
      "display_name": "Pyolite",
      "language": "python"
    }
  },
  "nbformat_minor": 4,
  "nbformat": 4,
  "cells": [
    {
      "cell_type": "code",
      "source": "import numpy as np\n\n# multi-asset Geometric Brownian motion\nclass multiGeometric:\n    \n    def __init__(self, s0 = None, T = None, N = None, cov = None):\n        self.s0 = s0\n        self.T = T\n        self.N = N\n        self.cov = cov\n        \n    # function that generates a specific process\n    def gen_process(self):\n        \n        dt = np.divide(self.T,self.N)\n        sigma = np.zeros(2)\n        processes = np.zeros((self.N,2))\n        processes[0,:] = np.log(self.s0)\n        \n        drift = np.zeros(1)\n        diffusion = np.zeros(1)\n        \n        for i in range(1,self.N):\n            z1 = np.random.normal(0,1)\n            sigma[0] = cov[0,0]\n            sigma[1] = cov[1,1]\n            \n            drift = 0.5*(sigma**2)*dt\n            diffusion = np.sqrt(self.T/self.N)*np.matmul(np.linalg.cholesky(self.cov), np.random.normal(0,1,size=2))\n            \n            processes[i,:] = processes[i-1,:] - drift + diffusion\n        \n        return np.exp(processes)\n    \n    # function that loops through the afordefined to generate multiple paths\n    def gen_path(self, nbPaths = None):\n        \n        dt = np.divide(self.T,self.N)\n        dualPaths = np.zeros(((nbPaths,self.N,2)))\n        \n        for i in range(nbPaths):\n            dualPaths[i,:,:] = self.gen_process()\n        \n        return dualPaths\n    \ns0 = np.array([100,100])\ncov = np.array([[0.1, 0.05],[0.05, 0.2]])\n    \nsto = multiGeometric(s0 = s0, T = 1, N = 30, cov = cov)\nspot = sto.gen_path(nbPaths = 3)\npath = sto.gen_process()\n# working fine",
      "metadata": {
        "trusted": true
      },
      "execution_count": 642,
      "outputs": []
    },
    {
      "cell_type": "code",
      "source": "from math import log, sqrt, exp, pi\nimport numpy as np\nimport scipy.stats as stats\n\ndef bivnormcdf(a,b,rho):\n\n\tif a <= 0. and b <= 0. and rho <= 0. :\n\t\taprime = a/sqrt(2.*(1.-rho**2.))\n\t\tbprime = b/sqrt(2.*(1.-rho**2.))\n\t\tA = np.array([0.3253030, 0.4211071, 0.1334425, 0.006374323])\n\t\tB = np.array([0.1337764, 0.6243247, 1.3425378, 2.2626645])\n\n\t\tt = 0.\n\n\t\tfor i in range(4):\n\t\t\tfor j in range(4):\n\t\t\t\tx = B[i]\n\t\t\t\ty = B[j]\n\t\t\t\tt += A[i]*A[j]* exp(aprime*(2.*x - aprime) \\\n\t\t\t\t     + (bprime*(2.*y - bprime)) + (2.*rho * (x - aprime)*(y-bprime)))\n\n\t\tp = (sqrt(1.-rho**2.)/pi) * t\n\n\telif a * b * rho <= 0. :\n\t\tif a <= 0. and b >= 0. and rho >= 0. :\n\t\t\tp = stats.norm.cdf(a) - bivnormcdf(a,-b,-rho)\n\t\telif a >= 0. and b <= 0. and rho >= 0. :\n\t\t\tp = stats.norm.cdf(b) - bivnormcdf(-a,b,-rho)\n\t\telif a >= 0. and b >= 0. and rho <= 0. :\n\t\t\tp = stats.norm.cdf(a) + stats.norm.cdf(b) - 1. + bivnormcdf(-a,-b,rho)\n\n\telif a*b*rho > 0. :\n\t\tif a >= 0. :\n\t\t\tasign = 1.\n\t\telse:\n\t\t\tasign = -1.\n\n\t\tif b >= 0.:\n\t\t\tbsign = 1.\n\t\telse:\n\t\t\tbsign = -1.\n\n\t\trho1 = (rho*a - b)*asign/(sqrt(a**2. - (2.*rho*a*b) + b**2.))\n\t\trho2 = (rho*b - a)*bsign/(sqrt(a**2. - (2.*rho*a*b) + b**2.))\n\t\tdelta = (1. - (asign*bsign))/4.\n\n\t\tp = bivnormcdf(a,0,rho1) + bivnormcdf(b,0,rho2) - delta\n        \n\treturn p",
      "metadata": {
        "trusted": true
      },
      "execution_count": 23,
      "outputs": []
    },
    {
      "cell_type": "code",
      "source": "import numpy as np\nimport scipy.stats as stats\n\nclass EuropeanRainbow:\n    def __init__(self):\n        pass\n\n    def get_Stulz_price(self, S=None, cov=None, r=None, K=None, matu=None, N=None, nbPaths=None):\n\n        dt = matu / N\n        T = np.arange(0, N) * dt\n        T = np.repeat(np.flip(T[None, :]), S.shape[0], axis=0)\n\n        spot1 = np.zeros((nbPaths, N))\n        spot2 = np.zeros((nbPaths, N))\n\n        eta1 = np.zeros((nbPaths, N))\n        eta2 = np.zeros((nbPaths, N))\n\n        beta1 = np.zeros((nbPaths, N))\n        beta2 = np.zeros((nbPaths, N))\n\n        gamma1 = np.zeros((nbPaths, N))\n        gamma2 = np.zeros((nbPaths, N))\n\n        spot1[:, :] = S[:, :, 0]\n        spot2[:, :] = S[:, :, 1]\n\n        sigma1 = np.sqrt(cov[0, 0])\n        sigma2 = np.sqrt(cov[1, 1])\n        rho = cov[0, 1] / (sigma1 * sigma2)\n\n        sig = cov[0,0] + cov[1,1] - 2 * cov[0,1]\n        rho_indiv1 = (rho * sigma2 - sigma1) / np.sqrt(sig)\n        rho_indiv2 = (rho * sigma1 - sigma2) / np.sqrt(sig)\n\n        price = np.zeros((nbPaths, N-1))\n\n        with np.errstate(divide=\"ignore\"):\n            eta1 = np.divide(np.log(spot1 / K) + (r + 0.5 * (sigma1 ** 2)) * T, (sigma1 * np.sqrt(T)))\n            eta2 = np.divide(np.log(spot2 / K) + (r + 0.5 * (sigma2 ** 2)) * T, (sigma2 * np.sqrt(T)))\n\n            beta1 = np.divide(np.log(spot2 / spot1) - 0.5 * ((sig ** 2) * np.sqrt(T)), np.sqrt(sig) * np.sqrt(T))\n            beta2 = np.divide(np.log(spot1 / spot2) - 0.5 * ((sig ** 2) * np.sqrt(T)), np.sqrt(sig) * np.sqrt(T))\n\n            gamma1 = eta1 - sigma1 * np.sqrt(T)\n            gamma2 = eta2 - sigma2 * np.sqrt(T)\n\n        for i in range(0,N-1):\n\n            for j in range(0,nbPaths):\n\n                price[j,i] = spot2[j,i] * bivnormcdf(eta2[j,i],beta2[j,i],rho_indiv2) + \\\n                             spot1[j,i] * bivnormcdf(eta1[j,i],beta1[j,i],rho_indiv1) - \\\n                             K * np.exp(-r * T[j,i]) * bivnormcdf(gamma2[j,i],gamma1[j,i],rho)\n                \n                if price[j,i] < 0:\n                    price[j,i] = 0\n\n        return price\n\n    def get_Stulz_delta(self, S=None, cov=None, r=None, K=None, matu=None, N=None, nbPaths=None):\n\n        dt = matu / N\n        T = np.arange(0, N) * dt\n        T = np.repeat(np.flip(T[None, :]), S.shape[0], axis=0)\n\n        spot1 = np.zeros((nbPaths, N))\n        spot2 = np.zeros((nbPaths, N))\n\n        eta1 = np.zeros((nbPaths, N))\n        eta2 = np.zeros((nbPaths, N))\n\n        beta1 = np.zeros((nbPaths, N))\n        beta2 = np.zeros((nbPaths, N))\n\n        gamma1 = np.zeros((nbPaths, N))\n        gamma2 = np.zeros((nbPaths, N))\n\n        spot1[:, :] = S[:, :, 0]\n        spot2[:, :] = S[:, :, 1]\n\n        sigma1 = np.sqrt(cov[0, 0])\n        sigma2 = np.sqrt(cov[1, 1])\n        rho = cov[0, 1] / (sigma1 * sigma2)\n\n        sig = cov[0,0] + cov[1,1] - 2 * cov[0,1]\n        rho_indiv1 = (rho * sigma2 - sigma1) / np.sqrt(sig)\n        rho_indiv2 = (rho * sigma1 - sigma2) / np.sqrt(sig)\n\n        delta1 = np.zeros((nbPaths, N-1))\n        delta2 = np.zeros((nbPaths, N-1))\n\n        with np.errstate(divide=\"ignore\"):\n            eta1 = np.divide(np.log(spot1 / K) + (r + 0.5 * (sigma1 ** 2)) * T, (sigma1 * np.sqrt(T)))\n            eta2 = np.divide(np.log(spot2 / K) + (r + 0.5 * (sigma2 ** 2)) * T, (sigma2 * np.sqrt(T)))\n\n            beta1 = np.divide(np.log(spot2 / spot1) - 0.5 * ((sig ** 2) * np.sqrt(T)), np.sqrt(sig) * np.sqrt(T))\n            beta2 = np.divide(np.log(spot1 / spot2) - 0.5 * ((sig ** 2) * np.sqrt(T)), np.sqrt(sig) * np.sqrt(T))\n\n            gamma1 = eta1 - sigma1 * np.sqrt(T)\n            gamma2 = eta2 - sigma2 * np.sqrt(T)\n\n        for i in range(0,N-1):\n\n            for j in range(0, nbPaths):\n\n                delta1[j,i] = bivnormcdf(eta1[j,i],beta1[j,i],rho_indiv1)+ \\\n                         stats.norm.cdf(np.divide(eta1[j,i]-rho_indiv1*beta1[j,i],np.sqrt(1-rho_indiv1**2)))* \\\n                         np.exp(-0.5*beta1[j,i]*beta1[j,i])*(1/np.sqrt(np.min(np.log((spot1),np.log(spot2)))))- \\\n                         np.divide(spot2[j,i],spot1[j,i])*stats.norm.cdf(np.divide(eta2[j,i]-rho_indiv2*beta2[j,i], \\\n                         np.sqrt(1-rho_indiv2**2)))*np.exp(-0.5*beta2[j,i]*beta2[j,i])* \\\n                         (1 / np.sqrt(np.min(np.log((spot1), np.log(spot2)))))\n\n                delta2[j,i] = bivnormcdf(eta2[j,i],beta2[j,i],rho_indiv2)+ \\\n                         stats.norm.cdf(np.divide(eta2[j,i]-rho_indiv2*beta2[j,i],np.sqrt(1-rho_indiv2**2)))* \\\n                         np.exp(-0.5*beta1[j,i]*beta1[j,i])*(1/np.sqrt(np.min(np.log((spot1),np.log(spot2)))))- \\\n                         np.divide(spot1[j,i],spot2[j,i])*stats.norm.cdf(np.divide(eta1[j,i]-rho_indiv1*beta1[j,i], \\\n                         np.sqrt(1-rho_indiv1**2)))*np.exp(-0.5*beta2[j,i]*beta2[j,i])* \\\n                         (1 / np.sqrt(np.min(np.log((spot1), np.log(spot2)))))\n                \n        delta = np.zeros(((2, nbPaths, N-1)))\n        delta[0,:,:] = delta1[:,:]\n        delta[1,:,:] = delta2[:,:]\n\n        return delta\n    \n    def get_Stulz_PnL(self, S = None, payoff = None, delta = None, matu = None, r = None, \\\n                      final_period_cost = None, eps = None, N = None):\n        \n        dt = np.divide(matu,N)\n        \n        # we compute the initial PnL\n        PnL_Stulz = np.multiply(S[:,0,0], - delta[0,:,0]) + np.multiply(S[:,0,1], - delta[1,:,0])\n        PnL_Stulz = PnL_Stulz - np.abs(delta[0,:,0])*S[:,0,0]*eps - np.abs(delta[1,:,0])*S[:,0,1]*eps\n        PnL_Stulz = PnL_Stulz * np.exp(r * dt)\n        \n        # we compute the PnL at each in-between time steps\n        for t in range(1, N-1):\n            PnL_Stulz = PnL_Stulz + np.multiply(S[:,t,0], -delta[0,:,t] + delta[0,:,t-1]) + \\\n                        np.multiply(S[:,t,1], -delta[1,:,t] + delta[1,:,t-1])\n            \n            PnL_Stulz = PnL_Stulz - np.abs(delta[0,:,t] - delta[0,:,t-1]) * S[:,t,0] * eps \\\n                        - np.abs(delta[1,:,t] - delta[1,:,t-1]) * S[:,t,1] * eps\n            \n            PnL_Stulz = PnL_Stulz * np.exp(r * dt)\n        \n        # we compute the final PnL\n        PnL_Stulz = PnL_Stulz + np.multiply(S[:,N-1,0], delta[0,:,N-2]) + np.multiply(S[:,N-1,1], delta[1,:,N-2]) + payoff\n        \n        if final_period_cost:\n            PnL_Stulz = PnL_Stulz - np.abs(delta[0,:,N-1]) * S[:,N-1,0] * eps - np.abs(delta[1,:,N-1]) * S[:,N-1,1] * eps\n            \n        return PnL_Stulz",
      "metadata": {
        "trusted": true
      },
      "execution_count": 616,
      "outputs": []
    },
    {
      "cell_type": "code",
      "source": "m = np.array([0.1, 0.1])\nspot_init = np.array([100, 100])\nT = 1\nN = 30\ncov = np.array([[0.1, 0.05], [0.05, 0.1]])\nprob1 = 0.3\nprob2 = 0.3\nr = 0.0\nK = 100\nmatu = 1\nnbPaths = 1\neps=0.0\npayoff_func = lambda x, y : -np.maximum(np.minimum(x-K, y-K), 0.0)\ns\ntest = multiGeometric(s0=spot_init, T=T, N=N, cov=cov)\nS = test.gen_path(nbPaths=nbPaths)\npayoff_final = payoff_func(S[:,-1,0],S[:,-1,1])\n\nrainbow = EuropeanRainbow()\nprice = rainbow.get_Stulz_price(S=S, cov=cov, r=r, K=K, matu=matu, N=N, nbPaths=nbPaths)\ndelta = rainbow.get_Stulz_delta(S=S, cov=cov, r=r, K=K, matu=matu, N=N, nbPaths=nbPaths)\n\n# on a réussi à correctement pricer une option rainbow\n# il va nous rester cet aprem à étudier la fonction PnL\n# fonction codée pour le PnL, peut-être un poil chelou qu'on ait que des valeurs négatives mais wtv\n\npnl = rainbow.get_Stulz_PnL(S=S, delta=delta, matu=matu, N=N,eps=eps, r=r, payoff=payoff_final,final_period_cost=False)\nprint(pnl)",
      "metadata": {
        "trusted": true
      },
      "execution_count": 664,
      "outputs": [
        {
          "name": "stdout",
          "text": "[-2.37330845]\n",
          "output_type": "stream"
        }
      ]
    }
  ]
}