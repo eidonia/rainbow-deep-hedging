{
  "metadata": {
    "language_info": {
      "codemirror_mode": {
        "name": "python",
        "version": 3
      },
      "file_extension": ".py",
      "mimetype": "text/x-python",
      "name": "python",
      "nbconvert_exporter": "python",
      "pygments_lexer": "ipython3",
      "version": "3.8"
    },
    "kernelspec": {
      "name": "python",
      "display_name": "Pyolite",
      "language": "python"
    }
  },
  "nbformat_minor": 4,
  "nbformat": 4,
  "cells": [
    {
      "cell_type": "code",
      "source": "from tensorflow.keras.layers import Input, Dense, Concatenate, Subtract, ReLU\nfrom tensorflow.keras.layers import Lambda, Add, Dot, BatchNormalization, Activation\nfrom tensorflow.keras.models import Model\nfrom tensorflow.keras.initializers import he_normal, Zeros, he_uniform, TruncatedNormal\nimport tensorflow.keras.backend as K\nimport tensorflow as tf\nimport numpy as np\n\ndef delta_sub_model(model = None, days_from_today = None, share_strategy_across_time = False, \\\n              strat_type = \"simple\"):\n    \n    if strat_type == \"simple\":\n        inputs = model.get_layer(\"delta_\" + str(days_from_today)).input\n        intermediate_inputs = inputs\n    elif strat_type == \"recurrent\":\n        inputs = [Input(1,), Input(1,)]\n        intermediate_inputs = Concatenate()(inputs)\n        \n    if not share_strategy_across_time:\n        outputs = model.get_layer(\"delta_\" + str(days_from_today))(intermediate_inputs)\n    else:\n        outputs = model.get_layer(\"delta_0\")(intermediate_inputs)\n        \n    return Model(inputs, outputs)",
      "metadata": {},
      "execution_count": null,
      "outputs": []
    }
  ]
}