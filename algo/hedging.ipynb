{
  "metadata": {
    "language_info": {
      "codemirror_mode": {
        "name": "python",
        "version": 3
      },
      "file_extension": ".py",
      "mimetype": "text/x-python",
      "name": "python",
      "nbconvert_exporter": "python",
      "pygments_lexer": "ipython3",
      "version": "3.8"
    },
    "kernelspec": {
      "name": "python",
      "display_name": "Pyolite",
      "language": "python"
    }
  },
  "nbformat_minor": 4,
  "nbformat": 4,
  "cells": [
    {
      "cell_type": "code",
      "source": "from tensorflow.keras.layers import Input, Dense, Concatenate, Subtract, ReLU\nfrom tensorflow.keras.layers import Lambda, Add, Dot, BatchNormalization, Activation\nfrom tensorflow.keras.models import Model\nfrom tensorflow.keras.initializers import he_normal, Zeros, he_uniform, TruncatedNormal\nimport tensorflow.keras.backend as K\nimport tensorflow as tf\nimport numpy as np\n\ndef hedging(N = None, d = None, m = None, r = None, dt = None, init_w = None, eps = None, \\\n            T_cost = False, strat_type = None, use_batch_norm = None, \\\n            kernel_initializer = \"he_uniform\", activation_dense = \"relu\", \\\n            activation_output = \"linear\", share_strat_across_time = False):\n    \n    price = Input(shape=(1,), name = \"price_0\")\n    info_set = Input(shape=(1,), name = \"info_set_0\")\n    \n    inputs = [price, info_set]\n    \n    for j in range(N+1):\n        if j < N:\n            if strat_type == \"simple\":\n                helper1 = info_set\n            elif strat_type == \"recurrent\":\n                if j == 0:\n                    strat = Lambda(lambda x : x*0.0)(price)\n                \n                helper1 = Concatenate()([info_set, strat])\n            \n            if not share_strat_across_time:\n                strat_layer = StratLayer(d = d, m = m, use_batch_norm = use_batch_norm, \\\n                                         kernel_initializer = kernel_initializer, \\\n                                         activation_dense = activation_dense, \\\n                                         activation_output = activation_output, day = j)\n                \n            else:\n                if j == 0:\n                strat_layer = StratLayer(d = d, m = m, use_batch_norm = use_batch_norm, \\\n                                         kernel_initializer = kernel_initializer, \\\n                                         activation_dense = activation_dense, \\\n                                         activation_output = activation_output, day = j)\n                \n            stratHelper = strat_layer(helper1)\n            \n            if j == 0:\n                delta_strat = stratHelper\n            else:\n                delta_strat = Subtract(name = \"diff_strategy_\" + str(j))([stratHelper, strat])\n            \n            absChanges = Lambda(lambda x : K.abs(x), name = \"absChanges_\" + str(j))(delta_strat)\n            costs = Dot(axes=1)([absChanges, price])\n            costs = Lambda(lambda x : eps*x, name = \"costs_\" + str(j))(costs)\n            \n            if j == 0:\n                w = Lambda(lambda x : init_w - x, name = \"costsDot_\" + str(j))(costs)\n            else:\n                w = Subtract(name = \"costsDot_\" + str(j))([w, costs])\n                \n            # wealth for the next period -> previous wealth - cost of today's delta hedge strategy\n            mult = Dot(axes=1)([delta_strat, price])\n            w = Subtract(name = \"wealth_\" + str(j))([w, mult])\n            w = Lambda(lambda x : x*np.exp(r * dt))(w)\n            \n            price = Input(shape=(1,), name = \"price_\" + str(j+1))\n            info_set = Input(shape=(1,), name = \"info_set\" + str(j+1))\n            \n            strat = stratHelper\n            \n            # we materialize the gain in info along the time steps\n            if j != N-1:\n                inputs = inputs + [price, info_set]\n            else:\n                inputs = inputs + [price]\n            \n        else:\n            if final_period_cost:\n                absChanges = Lambda(lambda x : K.abs(x), name = \"absChanges_\" + str(j))(strat)\n                costs = Dot(axes=1)([absChanges, price])\n                costs = Lambda(lambda x : eps*x, name = \"costs_\" + str(j))(costs)\n                w = Subtract(name = \"costsDot_\" + str(j))([w, costs])\n                \n            # final period wealth\n            mult = Dot(axes=1)([strat, price])\n            w = Add()([w, mult])\n            \n            # adding the terminal payoff of the derivative\n            payoff = Input(shape=(1,), name = \"payoff\")\n            inputs = inputs + [payoff]\n            w = Add(name = \"wealth_\" + str(j))([w, payoff])\n            \n    return Model(inputs=inputs, outputs=wealth)",
      "metadata": {},
      "execution_count": null,
      "outputs": []
    }
  ]
}