{
  "metadata": {
    "language_info": {
      "codemirror_mode": {
        "name": "python",
        "version": 3
      },
      "file_extension": ".py",
      "mimetype": "text/x-python",
      "name": "python",
      "nbconvert_exporter": "python",
      "pygments_lexer": "ipython3",
      "version": "3.8"
    },
    "kernelspec": {
      "name": "python",
      "display_name": "Pyolite",
      "language": "python"
    }
  },
  "nbformat_minor": 4,
  "nbformat": 4,
  "cells": [
    {
      "cell_type": "code",
      "source": "import numpy as np",
      "metadata": {
        "trusted": true
      },
      "execution_count": 5,
      "outputs": []
    },
    {
      "cell_type": "code",
      "source": "m = np.array((0.1,0.1))\ncov = np.array([[0.2, 0], [0, 0.1]])\n\nprint(np.random.exponential()*0.1+np.sqrt(np.random.exponential())*np.random.normal(0,0.2**2))\nprint(np.random.exponential()*0.1+np.sqrt(np.random.exponential())*np.random.normal(0,0.1**2))\nprint(np.random.exponential()*0.1+np.sqrt(np.random.exponential())*np.random.multivariate_normal(m,cov))\n\nT = 1\nN = 30\nsigma = 0.2\n\na=(0.5*sigma**2)*T/N+np.sqrt(T/N)*np.matmul(np.linalg.cholesky(cov),np.random.normal(0,1,size=2))+np.log(100)\nprint(np.exp(a))\n\nb=(0.5*sigma**2)*T/N+np.sqrt(T/N)*np.matmul(np.linalg.cholesky(cov),np.random.normal(0,1,size=2))+np.random.poisson(0.1*T/N)*np.random.normal(0,1)\nprint(b)\n\nprint(100*np.exp(b))",
      "metadata": {
        "trusted": true
      },
      "execution_count": 11,
      "outputs": [
        {
          "name": "stdout",
          "text": "-0.05159596582630063\n0.0033074338700809294\n[0.22951    0.06393215]\n[100.65273497  99.50810568]\n[ 0.01861795 -0.00998229]\n[101.87923494  99.00673663]\n",
          "output_type": "stream"
        }
      ]
    },
    {
      "cell_type": "code",
      "source": "def kou(sigma,s0,T,N,cov):\n    dt=T/N\n    path = np.zeros((1,N))\n    path[0,0]=s0\n    A=np.linalg.cholesky(cov)\n    for i in range(N-1):\n        z1=np.random.normal(0,1,size=2)\n        n1=np.random.poisson(0.1*T/N)\n        z2=np.random.normal(0,1)\n        incr=(0.5*sigma**2)*T/N+np.sqrt(T/N)*np.matmul(A,z1)#+n1*z2\n        path[0,i+1]=incr\n    return path\n\nprint(kou(sigma,100,T,5,cov))",
      "metadata": {
        "trusted": true
      },
      "execution_count": null,
      "outputs": []
    }
  ]
}
