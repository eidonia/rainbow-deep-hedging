{
  "metadata": {
    "language_info": {
      "codemirror_mode": {
        "name": "python",
        "version": 3
      },
      "file_extension": ".py",
      "mimetype": "text/x-python",
      "name": "python",
      "nbconvert_exporter": "python",
      "pygments_lexer": "ipython3",
      "version": "3.8"
    },
    "kernelspec": {
      "name": "python",
      "display_name": "Pyolite",
      "language": "python"
    }
  },
  "nbformat_minor": 4,
  "nbformat": 4,
  "cells": [
    {
      "cell_type": "code",
      "source": "import tensorflow.keras.backend as K\n\ndef Entropy(w = None, loss_param = None):\n    \n    return (1/loss_param)*K.log(K.mean(K.exp(-loss_param * w)))\n\n\ndef CVaR(wealth = None, w = None, loss_param):\n    \n    return K.mean(w + (K.maximum(-wealth-w, 0)/(1.0-loss_param)))",
      "metadata": {
        "trusted": true
      },
      "execution_count": null,
      "outputs": []
    }
  ]
}