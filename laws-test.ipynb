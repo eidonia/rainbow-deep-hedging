{
  "metadata": {
    "language_info": {
      "codemirror_mode": {
        "name": "python",
        "version": 3
      },
      "file_extension": ".py",
      "mimetype": "text/x-python",
      "name": "python",
      "nbconvert_exporter": "python",
      "pygments_lexer": "ipython3",
      "version": "3.8"
    },
    "kernelspec": {
      "name": "python",
      "display_name": "Pyolite",
      "language": "python"
    }
  },
  "nbformat_minor": 4,
  "nbformat": 4,
  "cells": [
    {
      "cell_type": "code",
      "source": "import numpy as np",
      "metadata": {
        "trusted": true
      },
      "execution_count": 1,
      "outputs": []
    },
    {
      "cell_type": "code",
      "source": "np.random.poisson(0.1)*1000",
      "metadata": {
        "trusted": true
      },
      "execution_count": 549,
      "outputs": [
        {
          "execution_count": 549,
          "output_type": "execute_result",
          "data": {
            "text/plain": "0"
          },
          "metadata": {}
        }
      ]
    },
    {
      "cell_type": "code",
      "source": "np.random.exponential()",
      "metadata": {
        "trusted": true
      },
      "execution_count": 56,
      "outputs": [
        {
          "execution_count": 56,
          "output_type": "execute_result",
          "data": {
            "text/plain": "2.0243112961904917"
          },
          "metadata": {}
        }
      ]
    },
    {
      "cell_type": "code",
      "source": "0.1*np.random.exponential()+np.sqrt(np.random.exponential())*np.random.normal(0,0.1)",
      "metadata": {
        "trusted": true
      },
      "execution_count": 80,
      "outputs": [
        {
          "execution_count": 80,
          "output_type": "execute_result",
          "data": {
            "text/plain": "0.035976504838306764"
          },
          "metadata": {}
        }
      ]
    },
    {
      "cell_type": "code",
      "source": "m = np.array((0.1,0.1))\ncov = np.array([[0.2, 0], [0, 0.1]])\n\nprint(np.random.exponential()*0.1+np.sqrt(np.random.exponential())*np.random.normal(0,0.2**2))\nprint(np.random.exponential()*0.1+np.sqrt(np.random.exponential())*np.random.normal(0,0.1**2))\nprint(np.random.exponential()*0.1+np.sqrt(np.random.exponential())*np.random.multivariate_normal(m,cov))",
      "metadata": {
        "trusted": true
      },
      "execution_count": 122,
      "outputs": [
        {
          "name": "stdout",
          "text": "0.1293138970433508\n0.11581220948894723\n[0.35548394 0.63068347]\n",
          "output_type": "stream"
        }
      ]
    },
    {
      "cell_type": "code",
      "source": "np.random.uniform()",
      "metadata": {
        "trusted": true
      },
      "execution_count": 139,
      "outputs": [
        {
          "execution_count": 139,
          "output_type": "execute_result",
          "data": {
            "text/plain": "0.4581805989041885"
          },
          "metadata": {}
        }
      ]
    },
    {
      "cell_type": "code",
      "source": "m=np.array((0.1,0.15))\nzeros=np.array((0,0))\n\na=m*np.random.exponential()+np.sqrt(np.random.exponential())*np.random.normal(zeros,cov)\nb=0.1*np.random.exponential()+np.sqrt(np.random.exponential())*np.random.normal(0,0.1)\nc=0.15*np.random.exponential()+np.sqrt(np.random.exponential())*np.random.normal(0,0.2)\nz=np.array((a,b,c))\n\nnp.random.choice(z,1,p=[0.5, 0.25, 0.25])",
      "metadata": {
        "trusted": true
      },
      "execution_count": 245,
      "outputs": [
        {
          "name": "stderr",
          "text": "<ipython-input-245-ec3fc7d1ac16>:7: VisibleDeprecationWarning: Creating an ndarray from ragged nested sequences (which is a list-or-tuple of lists-or-tuples-or ndarrays with different lengths or shapes) is deprecated. If you meant to do this, you must specify 'dtype=object' when creating the ndarray.\n  z=np.array((a,b,c))\n",
          "output_type": "stream"
        },
        {
          "execution_count": 245,
          "output_type": "execute_result",
          "data": {
            "text/plain": "array([array([[0.05749163, 0.14033425],\n              [0.09355616, 0.22561349]])], dtype=object)"
          },
          "metadata": {}
        }
      ]
    },
    {
      "cell_type": "code",
      "source": "m=np.array((0.1,0.15))\nzeros=np.array((0,0))\n\na=np.zeros(2)\nb=np.zeros(2)\nc=np.zeros(2)\n\na[:]=(m*np.random.exponential()+np.sqrt(np.random.exponential())*np.random.multivariate_normal(zeros,cov))\nb[:]=(0.1*np.random.exponential()+np.sqrt(np.random.exponential())*np.random.normal(0,0.1),0)\nc[:]=(0,0.15*np.random.exponential()+np.sqrt(np.random.exponential())*np.random.normal(0,0.2))\n\nz=np.ndarray(3,dtype=object)\nz[0]=a\nz[1]=b\nz[2]=c\n\nprint(np.random.choice(z,1,p=[0.5, 0.25, 0.25]))",
      "metadata": {
        "trusted": true
      },
      "execution_count": 481,
      "outputs": [
        {
          "name": "stdout",
          "text": "[array([ 0.12630658, -0.29656101])]\n",
          "output_type": "stream"
        }
      ]
    },
    {
      "cell_type": "code",
      "source": "lam=5\ndt=1/30\nnp.random.poisson(lam*dt)",
      "metadata": {
        "trusted": true
      },
      "execution_count": 711,
      "outputs": [
        {
          "execution_count": 711,
          "output_type": "execute_result",
          "data": {
            "text/plain": "1"
          },
          "metadata": {}
        }
      ]
    }
  ]
}