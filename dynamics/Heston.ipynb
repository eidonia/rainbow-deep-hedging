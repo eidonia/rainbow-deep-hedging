{
  "metadata": {
    "language_info": {
      "codemirror_mode": {
        "name": "python",
        "version": 3
      },
      "file_extension": ".py",
      "mimetype": "text/x-python",
      "name": "python",
      "nbconvert_exporter": "python",
      "pygments_lexer": "ipython3",
      "version": "3.8"
    },
    "kernelspec": {
      "name": "python",
      "display_name": "Pyolite",
      "language": "python"
    }
  },
  "nbformat_minor": 4,
  "nbformat": 4,
  "cells": [
    {
      "cell_type": "code",
      "source": "# now we model Heston dynamics for a single asset\n# we remind that Heston is a stochastic volatility model\n# so for each path, two series are outreached: the spot and the volatility dynamics\n\nimport numpy as np\n\n# Heston\nclass HestonDynamics:\n    \n    def __init__(self, s0 = None, v0 = None, r = None, T = None, N = None, kappa = None, \\\n                theta = None, xi = None, rho = None):\n        self.s0 = s0\n        self.v0 = v0\n        self.r = r\n        self.T = T\n        self.N = N\n        self.kappa = kappa\n        self.theta = theta\n        self.xi = xi\n        self.rho = rho\n        \n    # function that generates a specific process\n    def gen_process(self):\n        \n        dt = np.divide(self.T,self.N)\n        spot_process = np.zeros(self.N)\n        vol_process = np.zeros(self.N)\n        \n        spot_process[0] = np.log(self.s0)\n        vol_process[0] = np.log(self.v0)\n        \n        for i in range(1,self.N):\n            zS = np.random.normal(0,self.v0)\n            z1 = np.random.normal(0,self.v0)\n            zV = self.rho*zS+np.sqrt(1-self.rho**2)*z1\n            \n            spot_process[i] = spot_process[i-1]+self.r-0.5*np.exp(vol_process[i-1]) *dt+ \\\n                              np.sqrt(np.exp(vol_process[i-1]))*np.sqrt(dt)*zS\n            vol_process[i] = vol_process[i-1] + np.divide(1,np.exp(vol_process[i-1])) * \\\n                             self.kappa*(self.theta-np.exp(vol_process[i-1]))-(0.5*self.xi**2)*dt + \\\n                             np.divide(self.xi,np.sqrt(np.exp(vol_process[i-1])))*np.sqrt(dt)*zV\n\n        return np.exp(spot_process), np.exp(vol_process)\n    \n    # function that loops through the afordefined to generate multiple paths\n    def gen_path(self, nbPaths = None):\n        \n        dt = np.divide(self.T,self.N)\n        spot_paths = np.zeros((nbPaths, self.N))\n        vol_paths = np.zeros((nbPaths, self.N))\n        \n        for i in range(nbPaths):\n            spot_paths[i,:], vol_paths[i,:] = self.gen_process()\n        \n        return spot_paths\n    \nsto = HestonDynamics(s0 = 100, v0 = 0.2, r = 0, T = 1, N = 30, \\\n                     kappa = 2, theta = 0.04, xi = 0.3, rho = 0.4)\nspot = sto.gen_path(nbPaths = 2)\npath = sto.gen_process()\n\nprint(spot)",
      "metadata": {
        "trusted": true
      },
      "execution_count": 200,
      "outputs": [
        {
          "name": "stdout",
          "text": "[[ 100.          107.00835251  118.40204515  131.52213916  146.5389784\n   161.20481757  178.50303748  195.15183748  215.21837673  238.97474296\n   266.95185912  297.55787186  326.14215739  357.23506076  392.35701513\n   436.69755056  480.12373763  526.95822731  585.0010331   647.41750317\n   708.43713334  780.14088437  853.87524178  958.15877272 1067.87091879\n  1183.20230576 1311.9300565  1455.72899833 1610.19020714 1795.76314206]\n [ 100.          108.89682805  120.20202154  133.98207143  148.40483899\n   164.86057024  180.46334373  196.50986015  215.17600926  237.06567509\n   261.3866241   288.4475291   322.02208074  353.42649095  386.76047522\n   421.46454793  465.22343079  512.06080254  562.89781299  620.2793436\n   686.12840822  759.24775802  837.9619919   938.20449152 1029.32537236\n  1132.80101295 1251.77444079 1373.32753004 1518.50006901 1679.0333891 ]]\n",
          "output_type": "stream"
        }
      ]
    }
  ]
}