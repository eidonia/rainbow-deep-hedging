{
 "cells": [
  {
   "cell_type": "code",
   "execution_count": 83,
   "metadata": {},
   "outputs": [],
   "source": [
    "# now we model the multi-asset Geometric Brownian motion for two assets\n",
    "# generates a matrix: for each simulation we have two paths (for our two assets) of N steps\n",
    "# covariance matrix needs to be positive defined (to get the Cholesky)\n",
    "\n",
    "import numpy as np\n",
    "\n",
    "# multi-asset Geometric Brownian motion\n",
    "class multiGeometric:\n",
    "    \n",
    "    def __init__(self, s0 = None, T = None, N = None, cov = None):\n",
    "        self.s0 = s0\n",
    "        self.T = T\n",
    "        self.N = N\n",
    "        self.cov = cov\n",
    "        \n",
    "    # function that generates a specific process\n",
    "    def gen_process(self):\n",
    "        \n",
    "        dt = np.divide(self.T,self.N)\n",
    "        sigma = np.zeros(2)\n",
    "        processes = np.zeros((self.N,2))\n",
    "        processes[0,:] = np.log(self.s0)\n",
    "        \n",
    "        drift = np.zeros(1)\n",
    "        diffusion = np.zeros(1)\n",
    "        \n",
    "        for i in range(1,self.N):\n",
    "            z1 = np.random.normal(0,1)\n",
    "            sigma[0] = cov[0,0]\n",
    "            sigma[1] = cov[1,1]\n",
    "            \n",
    "            drift = 0.5*(sigma**2)*dt\n",
    "            diffusion = np.sqrt(self.T/self.N)*np.matmul(np.linalg.cholesky(self.cov), \\\n",
    "                                               np.random.normal(0,1,size=2))\n",
    "            \n",
    "            processes[i,:] = processes[i-1,:] - drift + diffusion\n",
    "        \n",
    "        return np.exp(processes)\n",
    "    \n",
    "    # function that loops through the afordefined to generate multiple paths\n",
    "    def gen_path(self, nbPaths = None):\n",
    "        \n",
    "        dt = np.divide(self.T,self.N)\n",
    "        dualPaths = np.zeros(((self.N,2,nbPaths)))\n",
    "        \n",
    "        for i in range(nbPaths):\n",
    "            dualPaths[:,:,i] = self.gen_process()\n",
    "        \n",
    "        return dualPaths\n",
    "    \n",
    "s0 = np.array([100,100])\n",
    "cov = np.array([[0.1, 0.05],[0.05, 0.2]])\n",
    "    \n",
    "sto = multiGeometric(s0 = s0, T = 1, N = 30, cov = cov)\n",
    "spot = sto.gen_path(nbPaths = 3)\n",
    "path = sto.gen_process()"
   ]
  }
 ],
 "metadata": {
  "kernelspec": {
   "display_name": "Python 3 (ipykernel)",
   "language": "python",
   "name": "python3"
  },
  "language_info": {
   "codemirror_mode": {
    "name": "ipython",
    "version": 3
   },
   "file_extension": ".py",
   "mimetype": "text/x-python",
   "name": "python",
   "nbconvert_exporter": "python",
   "pygments_lexer": "ipython3",
   "version": "3.9.7"
  }
 },
 "nbformat": 4,
 "nbformat_minor": 4
}
