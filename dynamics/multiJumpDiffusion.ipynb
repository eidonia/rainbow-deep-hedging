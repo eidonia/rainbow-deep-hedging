{
  "metadata": {
    "language_info": {
      "codemirror_mode": {
        "name": "python",
        "version": 3
      },
      "file_extension": ".py",
      "mimetype": "text/x-python",
      "name": "python",
      "nbconvert_exporter": "python",
      "pygments_lexer": "ipython3",
      "version": "3.8"
    },
    "kernelspec": {
      "name": "python",
      "display_name": "Pyolite",
      "language": "python"
    }
  },
  "nbformat_minor": 4,
  "nbformat": 4,
  "cells": [
    {
      "cell_type": "code",
      "source": "# now we model the multi-asset Geometric Brownian motion with Jump diffusion for two assets\n\nimport numpy as np\n\n# multi-asset Jump diffusion model\nclass multiJump:\n    \n    def __init__(self, m = None, s0 = None, T = None, N = None, \\\n                 cov = None, prob1 = None, prob2 = None):\n        self.m = m\n        self.s0 = s0\n        self.T = T\n        self.N = N\n        self.cov = cov\n        self.prob1 = prob1\n        self.prob2 = prob2\n        \n    # function that generates a specific process\n    def gen_process(self):\n        \n        dt = np.divide(self.T,self.N)\n        sigma = np.zeros(2)\n        processes = np.zeros((self.N,2))\n        processes[0,:] = np.log(self.s0)\n        \n        drift = np.zeros(2)\n        diffusion = np.zeros(2)\n        \n        for i in range(1,self.N):\n            z1 = np.random.normal(0,1)\n            sigma[0] = cov[0,0]\n            sigma[1] = cov[1,1]\n            \n            drift = 0.5*(sigma**2)*dt\n            diffusion = np.sqrt(self.T/self.N)*np.matmul(np.linalg.cholesky(self.cov), \\\n                                               np.random.normal(0,1,size=2))\n            jump = self.gen_jump(sigma[0], sigma[1])\n            \n            processes[i,:] = processes[i-1,:] - drift + diffusion + jump\n        \n        return np.exp(processes)\n    \n    # function that generates the jump part of the process\n    def gen_jump(self, sigma1 = None, sigma2 = None):\n    \n        a=np.zeros(2)\n        b=np.zeros(2)\n        c=np.zeros(2)\n        zeros=np.array((0,0))\n        \n        a[:]=(self.m*np.random.exponential()+np.sqrt(np.random.exponential())* \\\n              np.random.multivariate_normal(zeros,self.cov))\n        b[:]=(sigma1*np.random.exponential()+np.sqrt(np.random.exponential())* \\\n              np.random.normal(0,sigma1),0)\n        c[:]=(0,sigma2*np.random.exponential()+np.sqrt(np.random.exponential())* \\\n              np.random.normal(0,sigma2))\n        \n        z=np.ndarray(3,dtype=object)\n        z[0]=a\n        z[1]=b\n        z[2]=c\n        \n        return np.random.choice(z,1,p=[1 - self.prob1 - self.prob2, self.prob1, self.prob2])\n    \n    # function that loops through the afordefined to generate multiple paths\n    def gen_path(self, nbPaths = None):\n        \n        dt = np.divide(self.T,self.N)\n        dualPaths = np.zeros(((self.N,2,nbPaths)))\n        \n        for i in range(nbPaths):\n            dualPaths[:,:,i] = self.gen_process()\n        \n        return dualPaths\n    \nm = np.array([0.1,0.1])\ns0 = np.array([100,100])\ncov = np.array([[0.1, 0.05],[0.05, 0.2]])\n    \nsto = multiJump(m = m, s0 = s0, T = 1, N = 30, cov = cov, prob1 = 0.25, prob2 = 0.25)\nspot = sto.gen_path(nbPaths = 1)\npath = sto.gen_process()\n\nprint(path)",
      "metadata": {
        "trusted": true
      },
      "execution_count": null,
      "outputs": []
    }
  ]
}