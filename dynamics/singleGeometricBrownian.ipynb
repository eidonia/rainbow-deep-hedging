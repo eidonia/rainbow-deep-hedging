{
  "metadata": {
    "language_info": {
      "codemirror_mode": {
        "name": "python",
        "version": 3
      },
      "file_extension": ".py",
      "mimetype": "text/x-python",
      "name": "python",
      "nbconvert_exporter": "python",
      "pygments_lexer": "ipython3",
      "version": "3.8"
    },
    "kernelspec": {
      "name": "python",
      "display_name": "Pyolite",
      "language": "python"
    }
  },
  "nbformat_minor": 4,
  "nbformat": 4,
  "cells": [
    {
      "cell_type": "code",
      "source": "# in the following we will try to transform the QuantLib BlackScholesProcess\n# into a simple Numpy BlackScholesProcess\n# from then on, we will be able to generate the other paths we will be interested in\n\n# Heston dynamics\n# Multi-asset geometric Brownian motion dynamics\n# Kou multi-asset jump-diffusion model\n\nimport numpy as np\n\n# Geometric Brownian Motion\nclass GeometricBrownianMotion:\n    \n    def __init__(self, s0 = None, sigma = None, r = None, T = None, N = None):\n        self.s0 = s0\n        self.sigma = sigma\n        self.r = r\n        self.T = T\n        self.N = N\n        \n    # function that generates a specific process\n    def gen_process(self):\n        \n        dt = np.divide(self.T,self.N)\n        process = np.zeros(self.N)\n        process[0] = np.log(self.s0)\n        \n        for i in range(1,self.N):\n            z1 = np.random.normal(0,1)\n            process[i] = process[i-1]-0.5*(self.sigma**2)*dt+self.sigma*np.sqrt(dt)*z1\n        \n        return np.exp(process)\n    \n    # function that loops through the afordefined to generate multiple paths\n    def gen_path(self, nbPaths = None):\n        \n        dt = np.divide(self.T,self.N)\n        paths = np.zeros((nbPaths, self.N))\n        \n        for i in range(nbPaths):\n            paths[i,:] = self.gen_process()\n        \n        return paths\n    \nsto = GeometricBrownianMotion(s0 = 100, sigma = 0.2, r = 0, T = 1, N = 30)\nspot = sto.gen_path(nbPaths = 10)\npath = sto.gen_process()",
      "metadata": {
        "trusted": true
      },
      "execution_count": 248,
      "outputs": []
    }
  ]
}
