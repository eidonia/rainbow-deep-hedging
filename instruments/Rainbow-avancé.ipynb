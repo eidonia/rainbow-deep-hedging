{
  "metadata": {
    "language_info": {
      "codemirror_mode": {
        "name": "python",
        "version": 3
      },
      "file_extension": ".py",
      "mimetype": "text/x-python",
      "name": "python",
      "nbconvert_exporter": "python",
      "pygments_lexer": "ipython3",
      "version": "3.8"
    },
    "kernelspec": {
      "name": "python",
      "display_name": "Pyolite",
      "language": "python"
    }
  },
  "nbformat_minor": 4,
  "nbformat": 4,
  "cells": [
    {
      "cell_type": "code",
      "source": "import numpy as np\nimport scipy as stats",
      "metadata": {
        "trusted": true
      },
      "execution_count": 1,
      "outputs": []
    },
    {
      "cell_type": "code",
      "source": "class Rainbow:\n    def __init__(self):\n        pass\n    \n    # we will once again use numpy to generate everything\n    \n    # S -> spot prices of the two assets\n    # cov -> constant variance-covariance matrix\n    # r -> constant risk-free rate\n    # K -> strike price of the rainbow option\n    # matu -> maturity of the rainbow option\n    # N -> number of steps between ignition and maturity\n    # payoff -> final payoff of the rainbow option\n    # eps -> proportional transaction cost (same for both assets)\n    \n    # possible erreur dans un autre programme: on prend les variances au lieu des volatilités!\n    # faut bien qu'on fasse attention à bien prendre le bon sous-jacent pour calculer chacune des lignes!\n    \n    def get_Stulz_price(self, S = None, cov = None, r = None, K = None, matu = None, N = None):\n        \n        dt = np.divide(matu,N)\n        T = np.arange(0, N)*dt\n        T = np.repeat(np.flip(T[None,:]), S.shape[0], axis=0)\n        \n        sigma1 = np.sqrt(cov[0,0])\n        sigma2 = np.sqrt(cov[1,1])\n        rho = cov[0,1]/(sigma1*sigma2)\n        \n        sig = sigma1**2 + sigma2**2 + 2*rho*sigma1*sigma2\n        rho_indiv1 = (rho*sigma2 - sigma1) / sig\n        rho_indiv2 = (rho*sigma1 - sigma2) / sig\n        \n        with np.errstate(divide=\"ignore\"):\n            eta1 = np.divide(np.log(S[]/K)+(r+0.5*sigma1**2)*T, (sigma1*np.sqrt(T)))\n            eta2 = np.divide(np.log(S[]/K)+(r-0.5*sigma2**2)*T, (sigma2*np.sqrt(T)))\n            \n            beta1 = np.divide(np.log(S[]/S[])-0.5*(sig**2*np.sqrt(T)),sigma*np.sqrt(T))\n            beta2 = np.divide(np.log(S[]/S[])-0.5*(sig**2*np.sqrt(T)),sigma*np.sqrt(T))\n            \n            gamma1 = eta1 - sigma1*np.sqrt(T)\n            gamma2 = eta2 - sigma2*np.sqrt(T)\n        \n        return (S[] * np.random.multivariate_normal((eta1,beta1),rho_indiv1) + S[] * \\\n               np.random.multivariate_normal((eta2,beta2),rho_indiv2) - K * np.exp(-r*T) * \\\n               np.random.multivariate_normal((gamma1,gamma2),rho))\n    \n    def get_Stulz_delta(self, S = None, cov = None, r = None, K = None, matu = None, N = None):\n        \n        dt = np.divide(matu,N)\n        T = np.arange(0, N)*dt\n        T = np.repeat(np.flip(T[None,:]), S.shape[0], axis=0)\n        \n        Delta_Stulz = np.array((\n        \n        sigma1 = np.sqrt(cov[0,0])\n        sigma2 = np.sqrt(cov[1,1])\n        rho = cov[0,1]/(sigma1*sigma2)\n        \n        sig = sigma1**2 + sigma2**2 + 2*rho*sigma1*sigma2\n        rho_indiv1 = (rho*sigma2 - sigma1) / sig\n        rho_indiv2 = (rho*sigma1 - sigma2) / sig\n        \n        with np.errstate(divide=\"ignore\"):\n            eta1 = np.divide(np.log(S[]/K)+(r+0.5*sigma1**2)*T, (sigma1*np.sqrt(T)))\n            eta2 = np.divide(np.log(S[]/K)+(r-0.5*sigma2**2)*T, (sigma2*np.sqrt(T)))\n            \n            beta1 = np.divide(np.log(S[]/S[])-0.5*(sig**2*np.sqrt(T)),sigma*np.sqrt(T))\n            beta2 = np.divide(np.log(S[]/S[])-0.5*(sig**2*np.sqrt(T)),sigma*np.sqrt(T))\n            \n            gamma1 = eta1 - sigma1*np.sqrt(T)\n            gamma2 = eta2 - sigma2*np.sqrt(T)\n            \n            \n        \n        return Delta_Stulz\n    \n    def get_Stulz_PnL(self, S = None, payoff = None, delta = None, matu = None, r = None, \\\n                final_period_cost = None, eps = None, N = None):\n        \n        return PnL_Stulz",
      "metadata": {
        "trusted": true
      },
      "execution_count": 6,
      "outputs": [
        {
          "ename": "<class 'SyntaxError'>",
          "evalue": "invalid syntax (<ipython-input-6-f9bf286c31f9>, line 34)",
          "traceback": [
            "\u001b[0;36m  Input \u001b[0;32mIn [6]\u001b[0;36m\u001b[0m\n\u001b[0;31m    eta1 = np.divide(np.log(S[]/K)+(r+0.5*sigma1**2)*T, (sigma1*np.sqrt(T)))\u001b[0m\n\u001b[0m                              ^\u001b[0m\n\u001b[0;31mSyntaxError\u001b[0m\u001b[0;31m:\u001b[0m invalid syntax\n"
          ],
          "output_type": "error"
        }
      ]
    }
  ]
}