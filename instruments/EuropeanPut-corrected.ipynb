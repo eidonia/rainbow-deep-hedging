{
  "metadata": {
    "language_info": {
      "codemirror_mode": {
        "name": "python",
        "version": 3
      },
      "file_extension": ".py",
      "mimetype": "text/x-python",
      "name": "python",
      "nbconvert_exporter": "python",
      "pygments_lexer": "ipython3",
      "version": "3.8"
    },
    "kernelspec": {
      "name": "python",
      "display_name": "Pyolite",
      "language": "python"
    }
  },
  "nbformat_minor": 4,
  "nbformat": 4,
  "cells": [
    {
      "cell_type": "code",
      "source": "import numpy as np\nimport scipy as stats",
      "metadata": {
        "trusted": true
      },
      "execution_count": 9,
      "outputs": []
    },
    {
      "cell_type": "code",
      "source": "class EuropeanPut:\n    def __init__(self):\n        pass\n    \n    # we will use numpy to generate everything\n    # i believe all return vectors\n    \n    # S -> spot price\n    # sigma -> constant volatility\n    # r -> constant risk-free rate\n    # q -> constant dividend rate\n    # K -> strike price\n    # matu -> maturity of the option\n    # N -> number of steps until maturity\n    \n    def get_BS_price(self, S = None, sigma = None, r = None, K = None, matu = None, N = None):\n        \n        dt = np.divide(T,N)\n        T = np.arange(0, N)*dt\n        T = np.repeat(np.flip(T[None,:]), S.shape[0], axis=0)\n        \n        with np.errstate(divide=\"ignore\"):\n            d1 = np.divide(np.log(S/K) + (r+0.5*sigma**2) * T, sigma * np.sqrt(T))\n            d2 = np.divide(np.log(S/K) + (r-0.5*sigma**2) * T, sigma * np.sqrt(T))\n        \n        return (K * np.exp(-r * T) * stats.norm.cdf(-d2, 0.0, 1.0) - S * \\\n                stats.norm.cdf(-d1, 0.0, 1.0))\n    \n    def get_BS_delta(self, S = None, sigma = None, r = None, K = None, matu = None, N = None):\n        \n        dt = np.divide(matu,N)\n        T = np.arange(0, N)*dt\n        T = np.repeat(np.flip(T[None,:]), S.shape[0], axis=0)\n        \n        d1 = np.divide(np.log(S/K) + (r+0.5*sigma**2) * T, sigma * np.sqrt(T))\n        \n        return stats.norm.cdf(-d1, 0.0, 1.0) - 1\n    \n    def get_BS_PnL(self, S = None, payoff = None, delta = None, matu = None, r = None, \\\n                   final_period_cost = None, eps = None, N = None):\n        \n        dt = np.divide(matu,N)\n        \n        # we compute the initial PnL\n        PnL_BS = np.multiply(S[:,0], - delta[:,0])\n        PnL_BS = PnL_BS - np.abs(delta[:,0]) * S[:,0] * eps\n        PnL_BS = PnL_BS * np.exp(r * dt)\n        \n        # we compute the PnL at each in-between time steps\n        for t in range(1, N):\n            PnL_BS = PnL_BS + np.multiply(S[:,t], -delta[:,t] + delta[:,t-1])\n            PnL_BS = PnL_BS - np.abs(delta[:,t] - delta[:,t-1]) * S[:,t] * eps\n            PnL_BS = PnL_BS * np.exp(r * dt)\n        \n        # we compute the final PnL\n        PnL_BS = PnL_BS + np.multiply(S[:,N], delta[:,N-1]) + payoff\n        \n        if final_period_cost:\n            PnL_BS = PnL_BS - np.abs(delta[:,N-1]) * S[:,N] * eps\n            \n        return PnL_BS",
      "metadata": {
        "trusted": true
      },
      "execution_count": 2,
      "outputs": []
    }
  ]
}