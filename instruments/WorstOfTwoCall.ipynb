{
  "metadata": {
    "language_info": {
      "codemirror_mode": {
        "name": "python",
        "version": 3
      },
      "file_extension": ".py",
      "mimetype": "text/x-python",
      "name": "python",
      "nbconvert_exporter": "python",
      "pygments_lexer": "ipython3",
      "version": "3.8"
    },
    "kernelspec": {
      "name": "python",
      "display_name": "Pyolite",
      "language": "python"
    }
  },
  "nbformat_minor": 4,
  "nbformat": 4,
  "cells": [
    {
      "cell_type": "code",
      "source": "import numpy as np\nimport scipy as stats",
      "metadata": {
        "trusted": true
      },
      "execution_count": 1,
      "outputs": []
    },
    {
      "cell_type": "code",
      "source": "class Rainbow:\n    def __init__(self):\n        pass\n    \n    # we will once again use numpy to generate everything\n    \n    # S -> spot prices of the two assets\n    # cov -> constant variance-covariance matrix\n    # r -> constant risk-free rate\n    # K -> strike price of the rainbow option\n    # matu -> maturity of the rainbow option\n    # N -> number of steps between ignition and maturity\n    # payoff -> final payoff of the rainbow option\n    # eps -> proportional transaction cost (same for both assets)\n    \n    def get_Stulz_price(self, S = None, cov = None, r = None, K = None, matu = None, N = None):\n        \n        return Stulz_price\n    \n    def get_Stulz_delta(self, S = None, cov = None, r = None, K = None, matu = None, N = None):\n        \n        return Stulz_delta\n    \n    def get_Stulz_PnL(self, S = None, payoff = None, delta = None, matu = None, r = None, \\\n                final_period_cost = None, eps = None, N = None):\n        \n        return PnL_Stulz",
      "metadata": {
        "trusted": true
      },
      "execution_count": 3,
      "outputs": []
    }
  ]
}